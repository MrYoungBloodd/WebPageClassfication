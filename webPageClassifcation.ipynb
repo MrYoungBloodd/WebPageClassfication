{
 "cells": [
  {
   "cell_type": "code",
   "execution_count": 1,
   "id": "ef763f04",
   "metadata": {},
   "outputs": [
    {
     "name": "stdout",
     "output_type": "stream",
     "text": [
      "Requirement already satisfied: scikit-learn in /usr/local/lib/python3.8/dist-packages (0.24.2)\n",
      "Requirement already satisfied: joblib>=0.11 in /usr/local/lib/python3.8/dist-packages (from scikit-learn) (1.0.1)\n",
      "Requirement already satisfied: threadpoolctl>=2.0.0 in /usr/local/lib/python3.8/dist-packages (from scikit-learn) (2.2.0)\n",
      "Requirement already satisfied: numpy>=1.13.3 in /usr/local/lib/python3.8/dist-packages (from scikit-learn) (1.19.5)\n",
      "Requirement already satisfied: scipy>=0.19.1 in /usr/local/lib/python3.8/dist-packages (from scikit-learn) (1.4.1)\n",
      "\u001b[33mWARNING: Running pip as root will break packages and permissions. You should install packages reliably by using venv: https://pip.pypa.io/warnings/venv\u001b[0m\n",
      "\u001b[33mWARNING: You are using pip version 21.1.2; however, version 21.2.3 is available.\n",
      "You should consider upgrading via the '/usr/bin/python -m pip install --upgrade pip' command.\u001b[0m\n",
      "Requirement already satisfied: xgboost in /usr/local/lib/python3.8/dist-packages (1.4.2)\n",
      "Requirement already satisfied: numpy in /usr/local/lib/python3.8/dist-packages (from xgboost) (1.19.5)\n",
      "Requirement already satisfied: scipy in /usr/local/lib/python3.8/dist-packages (from xgboost) (1.4.1)\n",
      "\u001b[33mWARNING: Running pip as root will break packages and permissions. You should install packages reliably by using venv: https://pip.pypa.io/warnings/venv\u001b[0m\n",
      "\u001b[33mWARNING: You are using pip version 21.1.2; however, version 21.2.3 is available.\n",
      "You should consider upgrading via the '/usr/bin/python -m pip install --upgrade pip' command.\u001b[0m\n"
     ]
    }
   ],
   "source": [
    "!pip install -U scikit-learn\n",
    "import pandas as pd\n",
    "import tensorflow as tf\n",
    "import keras\n",
    "import numpy as np\n",
    "from sklearn.preprocessing import LabelEncoder\n",
    "from sklearn.pipeline import Pipeline\n",
    "\n",
    "!pip install xgboost\n",
    "from xgboost import XGBClassifier\n",
    "train= pd.read_csv('datasets/web_page_train.csv')"
   ]
  },
  {
   "cell_type": "code",
   "execution_count": 2,
   "id": "afef2adf",
   "metadata": {},
   "outputs": [
    {
     "data": {
      "text/html": [
       "<div>\n",
       "<style scoped>\n",
       "    .dataframe tbody tr th:only-of-type {\n",
       "        vertical-align: middle;\n",
       "    }\n",
       "\n",
       "    .dataframe tbody tr th {\n",
       "        vertical-align: top;\n",
       "    }\n",
       "\n",
       "    .dataframe thead th {\n",
       "        text-align: right;\n",
       "    }\n",
       "</style>\n",
       "<table border=\"1\" class=\"dataframe\">\n",
       "  <thead>\n",
       "    <tr style=\"text-align: right;\">\n",
       "      <th></th>\n",
       "      <th>Webpage_id</th>\n",
       "      <th>Tag</th>\n",
       "      <th>text</th>\n",
       "    </tr>\n",
       "  </thead>\n",
       "  <tbody>\n",
       "    <tr>\n",
       "      <th>0</th>\n",
       "      <td>11400</td>\n",
       "      <td>news</td>\n",
       "      <td>b'          Questions? +1 800-883-2055   Set U...</td>\n",
       "    </tr>\n",
       "    <tr>\n",
       "      <th>1</th>\n",
       "      <td>55539</td>\n",
       "      <td>others</td>\n",
       "      <td>b\"    Skip to main navigation   Skip to Conten...</td>\n",
       "    </tr>\n",
       "    <tr>\n",
       "      <th>2</th>\n",
       "      <td>42040</td>\n",
       "      <td>others</td>\n",
       "      <td>b\"       FDA Voice  FDA's official blog     Se...</td>\n",
       "    </tr>\n",
       "    <tr>\n",
       "      <th>3</th>\n",
       "      <td>41174</td>\n",
       "      <td>others</td>\n",
       "      <td>b'                  WHERE THE ACTION IS    HOM...</td>\n",
       "    </tr>\n",
       "    <tr>\n",
       "      <th>4</th>\n",
       "      <td>70573</td>\n",
       "      <td>news</td>\n",
       "      <td>b\"             This site requires javascript, ...</td>\n",
       "    </tr>\n",
       "    <tr>\n",
       "      <th>5</th>\n",
       "      <td>19573</td>\n",
       "      <td>publication</td>\n",
       "      <td>b\"                                            ...</td>\n",
       "    </tr>\n",
       "    <tr>\n",
       "      <th>6</th>\n",
       "      <td>77951</td>\n",
       "      <td>others</td>\n",
       "      <td>b'                          Folders    Galleri...</td>\n",
       "    </tr>\n",
       "    <tr>\n",
       "      <th>7</th>\n",
       "      <td>25774</td>\n",
       "      <td>news</td>\n",
       "      <td>b'          Home  Topics   Disparities Policy ...</td>\n",
       "    </tr>\n",
       "    <tr>\n",
       "      <th>8</th>\n",
       "      <td>10095</td>\n",
       "      <td>news</td>\n",
       "      <td>b'                       Home  Submit Press Re...</td>\n",
       "    </tr>\n",
       "    <tr>\n",
       "      <th>9</th>\n",
       "      <td>350</td>\n",
       "      <td>clinicalTrials</td>\n",
       "      <td>b\"      \\xe4\\xbb\\x8a\\xe5\\xa4\\xa9\\xe6\\x98\\xaf\\x...</td>\n",
       "    </tr>\n",
       "  </tbody>\n",
       "</table>\n",
       "</div>"
      ],
      "text/plain": [
       "   Webpage_id             Tag  \\\n",
       "0       11400            news   \n",
       "1       55539          others   \n",
       "2       42040          others   \n",
       "3       41174          others   \n",
       "4       70573            news   \n",
       "5       19573     publication   \n",
       "6       77951          others   \n",
       "7       25774            news   \n",
       "8       10095            news   \n",
       "9         350  clinicalTrials   \n",
       "\n",
       "                                                text  \n",
       "0  b'          Questions? +1 800-883-2055   Set U...  \n",
       "1  b\"    Skip to main navigation   Skip to Conten...  \n",
       "2  b\"       FDA Voice  FDA's official blog     Se...  \n",
       "3  b'                  WHERE THE ACTION IS    HOM...  \n",
       "4  b\"             This site requires javascript, ...  \n",
       "5  b\"                                            ...  \n",
       "6  b'                          Folders    Galleri...  \n",
       "7  b'          Home  Topics   Disparities Policy ...  \n",
       "8  b'                       Home  Submit Press Re...  \n",
       "9  b\"      \\xe4\\xbb\\x8a\\xe5\\xa4\\xa9\\xe6\\x98\\xaf\\x...  "
      ]
     },
     "execution_count": 2,
     "metadata": {},
     "output_type": "execute_result"
    }
   ],
   "source": [
    "import sklearn\n",
    "from xgboost import XGBClassifier\n",
    "train.head(10)"
   ]
  },
  {
   "cell_type": "code",
   "execution_count": 3,
   "id": "64efb802",
   "metadata": {},
   "outputs": [
    {
     "data": {
      "text/plain": [
       "\"b'          Questions? +1 800-883-2055   Set Up FREE Account  Submit Release                    Why Us     Press Releases     Services    Pricing & Comparison Chart    Distribution    Resources    Contact               Contact        Resources    Contact        World Media Directory \\\\xc2\\\\xb7  RSS \\\\xc2\\\\xb7  Email Newsletters   There were 732 press releases posted in the last 24 hours and 172,125 in the last 365 days.     Press Releases  466,215\\\\n  Press Releases     Published on  September 20, 2017 - 06:48 GMT    Haptics Technology Market Research, Industry Analysis, Growth, Size, Share, Trends, Forecast to 2022    This report covers market characteristics, size and growth, segmentation, regional breakdowns, competitive landscape, market shares, trends and strategies\\\\n\\\\nPUNE, INDIA, September 20, 2017 /EINPresswire.com/ -- Haptic technology or Haptics is a technology  \\\\xe2\\\\x80\\\\xa6  Distribution channels: IT , Media, Advertising & PR ...      Published on  September 20, 2017 - 06:45 GMT     Hear Ye, Hear Ye! \\\\xe2\\\\x80\\\\x9cThe Great British Weekend\\\\xe2\\\\x80\\\\x9d is coming to Tokyo!    The First Ever Large-Scale British Festival in Japan to Launch 8-10 December 2017.\\\\n\\\\nTOKYO, MINATO-KU, JAPAN, September 20, 2017 /EINPresswire.com/ -- For the first time in Japan, La Ditta Limited will host the largest event of its kind this December  - \\\\xe2\\\\x80\\\\x9c \\\\xe2\\\\x80\\\\xa6  Distribution channels: Business & Economy , Consumer Goods ...      Published on  September 20, 2017 - 06:38 GMT     Report On the Global Garbage Truck Highlights Market Size, Opportunities, Trends and Forecast 2021    WiseGuyReports.com adds \\\\xe2\\\\x80\\\\x9cReport On the Global Garbage Truck Highlights Market Size, Opportunities, Trends and Forecast 2021\\\\xe2\\\\x80\\\\x9d reports to its Database.\\\\n\\\\nPUNE, MAHARASHTRA, INDIA, September 20, 2017 /EINPresswire.com/ -- Garbage Truck SWOT Analysis\\\\xc2\\\\xa0And  \\\\xe2\\\\x80\\\\xa6  Distribution channels: Automotive , Business & Economy ...      Published on  September 20, 2017 - 06:33 GMT    Mozzarella Cheese Market Sizing, Competition Analysis, Share, Consumer and Product Research, Strategy and Forecast 2022    This report covers market characteristics, size and growth, segmentation, regional breakdowns, competitive landscape, market shares, trends and strategies\\\\n\\\\nPUNE, INDIA, September 20, 2017 /EINPresswire.com/ -- In this report, the global Mozzarella Cheese  \\\\xe2\\\\x80\\\\xa6  Distribution channels: Business & Economy , Culture, Society & Lifestyle ...      Published on  September 20, 2017 - 06:23 GMT     Global Shotcrete Market Status, Market Size by Players, Regions, Type, Application And Forecast to 2022    WiseGuyReports.com adds \\\\xe2\\\\x80\\\\x9cGlobal Shotcrete Market Status, Market Size by Players, Regions, Type, Application And Forecast to 2022 \\\\xe2\\\\x80\\\\x9d reports to its Database.\\\\n\\\\nPUNE, MAHARASHTRA, INDIA, September 20, 2017 /EINPresswire.com/ -- \\\\r\\\\n\\\\r\\\\n\\\\r\\\\nShotcrete SWOT Analysis\\\\xc2\\\\xa0 \\\\xe2\\\\x80\\\\xa6  Distribution channels: Building, Construction , Business & Economy ...      Published on  September 20, 2017 - 06:24 GMT     Magnetic Drive Pumps 2017 Global Market Size, Segmentation, Key Manufacturer Analysis and Forecast to 2022    Wiseguyreports.Com Publish New Research Report On-\\\\xe2\\\\x80\\\\x9cMagnetic Drive Pumps 2017 Global Market Size, Segmentation, Key Manufacturer Analysis and Forecast to 2022\\\\xe2\\\\x80\\\\x9d.\\\\n\\\\nPUNE, INDIA, September 20, 2017 /EINPresswire.com/ -- \\\\r\\\\n\\\\r\\\\nMagnetic Drive Pumps Market 2017\\\\r\\\\n\\\\r\\\\n \\\\xe2\\\\x80\\\\xa6  Distribution channels: Business & Economy , Companies ...      Published on  September 20, 2017 - 06:18 GMT    Smart Medical Devices Market Analysis 2017 (By Segment, Key Players and Applications) and Forecasts To 2022    Smart Medical Devices Global Market Share, Opportunities, Segmentation and Forecast to 2022\\\\n\\\\nPUNE, INDIA, September 20, 2017 /EINPresswire.com/ -- Pune, India, 20th September 2017: WiseGuyReports announced addition of new report, titled \\\\xe2\\\\x80\\\\x9cGlobal Smart  \\\\xe2\\\\x80\\\\xa6  Distribution channels: Business & Economy , Healthcare & Pharmaceuticals ...      Published on  September 20, 2017 - 06:13 GMT    System On Package (SOP) Market 2017 Share, Trend, Segmentation and Forecast to 2022    This report covers market characteristics, size and growth, segmentation, regional breakdowns, competitive landscape, market shares, trends and strategies\\\\n\\\\nPUNE, INDIA, September 20, 2017 /EINPresswire.com/ -- System On Package Market deals with  \\\\xe2\\\\x80\\\\xa6  Distribution channels: Automotive , Business & Economy ...      Published on  September 20, 2017 - 06:03 GMT     Global Railway Maintenance Machinery Market Present Scenario, Growth Ratio and Forecast 2017-2021    WiseGuyReports.com adds \\\\xe2\\\\x80\\\\x9cGlobal Railway Maintenance Machinery Market Present Scenario, Growth Ratio and Forecast 2017-2021 \\\\xe2\\\\x80\\\\x9d reports to its Database.\\\\n\\\\nPUNE, MAHARASHTRA, INDIA, September 20, 2017 /EINPresswire.com/ -- \\\\r\\\\n\\\\r\\\\n\\\\r\\\\nRailway Maintenance Machinery  \\\\xe2\\\\x80\\\\xa6  Distribution channels: Automotive , Business & Economy ...      Published on  September 20, 2017 - 05:53 GMT     Walkie Talkie 2017 Global Market Expected to Grow at CAGR 9.47 % and Forecast to 2021    WiseGuyReports.com adds \\\\xe2\\\\x80\\\\x9cWalkie Talkie 2017 Global Market Expected to Grow at CAGR 9.47 % and Forecast to 2021 \\\\xe2\\\\x80\\\\x9d reports to its Database.\\\\n\\\\nPUNE, MAHARASHTRA, INDIA, September 20, 2017 /EINPresswire.com/ -- \\\\r\\\\n\\\\r\\\\n\\\\r\\\\nWalkie Talkie SWOT Analysis\\\\xc2\\\\xa0And Forecast  \\\\xe2\\\\x80\\\\xa6  Distribution channels: Business & Economy , Electronics ...      Published on  September 20, 2017 - 05:54 GMT    Sport Jackets Market Analysis 2017 (By Segment, Key Players and Applications) and Forecasts To 2022    Sport Jackets Global Market Share, Opportunities, Segmentation and Forecast to 2022\\\\n\\\\nPUNE, INDIA, September 20, 2017 /EINPresswire.com/ -- Pune, India, 20th September 2017: WiseGuyReports announced addition of new report, titled \\\\xe2\\\\x80\\\\x9cGlobal Sport Jackets  \\\\xe2\\\\x80\\\\xa6  Distribution channels: Business & Economy , Consumer Goods ...      Published on  September 20, 2017 - 05:43 GMT     Internet of Things (IoT) Platforms Global Market 2017 Key Players,Share, Trend, Segmentation and Forecast to 2022    Internet of Things (IoT) Platforms  Global 2017 Market Demand, Growth, Opportunities and analysis of Top Key Player Forecast to 2022\\\\n\\\\nPUNE, INDIA , September 20, 2017 /EINPresswire.com/ -- Global Internet of Things (IoT) Platforms Market\\\\r\\\\n\\\\r\\\\nThis report  \\\\xe2\\\\x80\\\\xa6  Distribution channels: Business & Economy , IT ...      Published on  September 20, 2017 - 05:38 GMT     Global Construction Safety Helmets Market 2017 Industry Trends, Growth Rate with 4.19%CAGR Analysis 2021: 3M, Honeywell    WiseGuyReports.com adds \\\\xe2\\\\x80\\\\x9cGlobal Construction Safety Helmets Market 2017 Industry Trends, Growth Rate with 4.19%CAGR Analysis 2021: 3M\\\\xe2\\\\x80\\\\x9d reports to  Database\\\\n\\\\nPUNE, MAHARASHTRA, INDIA, September 20, 2017 /EINPresswire.com/ -- \\\\r\\\\n\\\\r\\\\nConstruction Safety Helmets \\\\xe2\\\\x80\\\\xa6  Distribution channels: Building, Construction , Business & Economy ...      Published on  September 20, 2017 - 05:28 GMT    Yoga Clothing Market Analysis 2017 (By Segment, Key Players and Applications) and Forecasts To 2022    Yoga Clothing Market 2017 Share, Trend, Segmentation and Forecast to 2022\\\\n\\\\nPUNE, INDIA, September 20, 2017 /EINPresswire.com/ -- Pune, India, 20th September 2017: WiseGuyReports announced addition of new report, titled \\\\xe2\\\\x80\\\\x9cGlobal Yoga Clothing Sales Market  \\\\xe2\\\\x80\\\\xa6  Distribution channels: Business & Economy , Manufacturing ...      Published on  September 20, 2017 - 05:18 GMT     Corporate Workforce Development Training Global Market 2017 Key Players,Share, Trend, Segmentation and Forecast to 2022    Corporate Workforce Development Training  Global 2017 Market Demand, Growth, Opportunities and analysis of Top Key Player Forecast to 2022\\\\n\\\\nPUNE, INDIA , September 20, 2017 /EINPresswire.com/ -- Global Corporate Workforce Development Training Market\\\\r\\\\n\\\\r\\\\n \\\\xe2\\\\x80\\\\xa6  Distribution channels: Business & Economy , Companies ...      Published on  September 20, 2017 - 05:08 GMT     Graphene 2017 Global Market Expected to Grow at CAGR of 47.63% and Forecast to 2022    Wiseguyreports.Com Publish New Market Research Report On-\\\\xe2\\\\x80\\\\x9cGraphene 2017 Global Market Expected to Grow at CAGR of 47.63% and Forecast to 2022\\\\xe2\\\\x80\\\\x9d.\\\\n\\\\nPUNE, INDIA, September 20, 2017 /EINPresswire.com/ -- \\\\r\\\\n\\\\r\\\\nGraphene Market 2017\\\\r\\\\n\\\\r\\\\nExecutive Summary\\\\r\\\\nWith the  \\\\xe2\\\\x80\\\\xa6  Distribution channels: Business & Economy , Chemicals ...      Published on  September 20, 2017 - 05:03 GMT     High Performance Alloys Global Market 2017 Key Players,Share, Trend, Segmentation and Forecast to 2022    High Performance Alloys  Global 2017 Market Demand, Growth, Opportunities and analysis of Top Key Player Forecast to 2022\\\\n\\\\nPUNE, INDIA , September 20, 2017 /EINPresswire.com/ -- World High Performance Alloys Market\\\\r\\\\n\\\\r\\\\nExecutive\\\\xc2\\\\xa0 Summary\\\\xc2\\\\xa0\\\\r\\\\n\\\\r\\\\nHigh  \\\\xe2\\\\x80\\\\xa6  Distribution channels: Business & Economy , Media, Advertising & PR ...      Published on  September 20, 2017 - 04:48 GMT     Global Technical Textiles  Market 2017 Research In-Depth Analysis, Key Players, Applications, Forecasts to 2022    Market Analysis Research Report on \\\\xe2\\\\x80\\\\x9cGlobal Technical Textiles Market 2017 Industry Growth, Size, Trends, Share and Forecast to 2022\\\\xe2\\\\x80\\\\x9d to their research database.\\\\n\\\\nPUNE, INDIA , September 20, 2017 /EINPresswire.com/ -- World Technical Textiles Market\\\\r\\\\n\\\\r\\\\n \\\\xe2\\\\x80\\\\xa6  Distribution channels: Business & Economy , Media, Advertising & PR ...      Published on  September 20, 2017 - 04:38 GMT     Electric Bike Global Market 2017 Key Players,Share, Trend, Segmentation and Forecast to 2022    Market Analysis Research Report on \\\\xe2\\\\x80\\\\x9cGlobal Electric Bike Market 2017 Industry Growth, Size, Trends, Share and Forecast to 2022\\\\xe2\\\\x80\\\\x9d to their research database.\\\\n\\\\nPUNE, INDIA , September 20, 2017 /EINPresswire.com/ -- World Electric Bike Market\\\\r\\\\n\\\\r\\\\nExecutive  \\\\xe2\\\\x80\\\\xa6  Distribution channels: Automotive , Business & Economy ...      Published on  September 20, 2017 - 04:18 GMT     Wireless Mesh Network Global Market 2017 Key Players,Share, Trend, Segmentation and Forecast to 2022    Market Analysis Research Report on Global Wireless Mesh Network Market 2017 Industry Growth, Size, Trends, Share and Forecast to 2022 to their research database\\\\n\\\\nPUNE, INDIA , September 20, 2017 /EINPresswire.com/ -- World Wireless Mesh Network Market\\\\r\\\\n\\\\r\\\\n \\\\xe2\\\\x80\\\\xa6  Distribution channels: Business & Economy , Media, Advertising & PR ...      1  2  3  4  5  6  7  8  9  10  11  Next                      Submit Release   Browse by Topic    Featured | All    Agriculture, Farming & Forestry    Amusement, Gaming & Casino    Automotive    Aviation & Aerospace    Banking, Finance & Investment    Beauty & Hair Care    Books    Building, Construction    Business & Economy    Chemicals    Companies    Conferences & Trade Fairs    Consumer Goods    Culture, Society & Lifestyle    Education    Electronics    Energy    Environment    Food & Beverages    Furniture & Woodworking    Gifts, Games & Hobbies    Healthcare & Pharmaceuticals    Human Rights    Insurance    International Organizations    IT    Law    Manufacturing    Media, Advertising & PR    Military    Mining    Movies    Music    Natural Disasters    Politics    Real Estate & Property Management    Religion    Retail    Science    Shipping, Storage & Logistics    Social Media    Sports, Fitness & Recreation    Technology    Telecommunications    Textiles & Fabric    Travel & Tourism    U.S. Politics    Waste Management    World & Regional     Submit Release                                                          See all         EIN Presswire    Follow @EINPresswire        Back to top       Quick Links:    Submit Releases    Login    Set Up FREE Account    Pricing & Comparison Chart    Distribution      Resources:    RSS    Email Newsletters    World Media Directory    EIN Newsdesk    NewsPlugin        Press Releases:    All Press Releases    Featured Press Releases    Search Press Releases    Browse by Date      Featured Clients:    WiseGuyReports.com    Marketwired    IT Governance        Help & Information Center:    Why Us?    About EIN Presswire    Helpful Tips    Video Tutorial    Client Testimonials    Blog    Services     Free Press Release Distribution    Press Release Distribution Services    Send Press Release    Submit Free Press Release       User Agreement    Privacy Policy   Contact               EIN News Home   About EIN News  Founded in 1995, EIN News is an international leader in real-time news tracking and digital information services. Our systems continuously scan the web, indexing news from thousands of worldwide sources. The data is then filtered and organized into news streams. The process is supervised by a team of professional news editors.  We are news professionals and technologists dedicated to producing the fastest and most comprehensive news streams on the planet. We are committed to providing our members with the highest quality software tools and resources available.   EIN News is a division of Internet Product Development Group Inc.  To reach us send an email or call +1 202-540-8337 or +1 800-883-2055.     EIN Presswire    Events & Conferences    Newsfeed Maker    Inbox Robot    IPD Group     EIN Twitter     EIN Facebook        \\\\xc2\\\\xa9 1995-2017 IPD Group, Inc. dba EIN Presswire | EIN News. All Right Reserved.\\\\n  | User Agreement | Privacy Policy | Contact        Why Us    Testimonials - Client Reviews    Blog posts    Video Tutorials        Browse All Releases    Browse Featured Release    Browse By Topic    Browse by Date        Free Press Release Distribution    Press Release Distribution Services    Send Press Release    Submit Free Press Release        Press Release Distribution    Media Monitoring        Distribution Overview    World Media Directory    U.S. TV-Radio    Microwires    Newsdesk    NewsPlugin                 '\""
      ]
     },
     "execution_count": 3,
     "metadata": {},
     "output_type": "execute_result"
    }
   ],
   "source": [
    "train['text'][0]"
   ]
  },
  {
   "cell_type": "code",
   "execution_count": 4,
   "id": "3790f777",
   "metadata": {},
   "outputs": [],
   "source": [
    "test= pd.read_csv('datasets/web_page_test.csv')"
   ]
  },
  {
   "cell_type": "code",
   "execution_count": 5,
   "id": "e2c88c20",
   "metadata": {},
   "outputs": [
    {
     "data": {
      "text/html": [
       "<div>\n",
       "<style scoped>\n",
       "    .dataframe tbody tr th:only-of-type {\n",
       "        vertical-align: middle;\n",
       "    }\n",
       "\n",
       "    .dataframe tbody tr th {\n",
       "        vertical-align: top;\n",
       "    }\n",
       "\n",
       "    .dataframe thead th {\n",
       "        text-align: right;\n",
       "    }\n",
       "</style>\n",
       "<table border=\"1\" class=\"dataframe\">\n",
       "  <thead>\n",
       "    <tr style=\"text-align: right;\">\n",
       "      <th></th>\n",
       "      <th>Webpage_id</th>\n",
       "      <th>text</th>\n",
       "    </tr>\n",
       "  </thead>\n",
       "  <tbody>\n",
       "    <tr>\n",
       "      <th>0</th>\n",
       "      <td>22193</td>\n",
       "      <td>b'                       Sign in              ...</td>\n",
       "    </tr>\n",
       "    <tr>\n",
       "      <th>1</th>\n",
       "      <td>66880</td>\n",
       "      <td>b\"                                            ...</td>\n",
       "    </tr>\n",
       "    <tr>\n",
       "      <th>2</th>\n",
       "      <td>13155</td>\n",
       "      <td>b'   Skip to Main Content                     ...</td>\n",
       "    </tr>\n",
       "    <tr>\n",
       "      <th>3</th>\n",
       "      <td>10638</td>\n",
       "      <td>b'                            Skip to main con...</td>\n",
       "    </tr>\n",
       "    <tr>\n",
       "      <th>4</th>\n",
       "      <td>42466</td>\n",
       "      <td>b\"       FDA Voice  FDA's official blog     Se...</td>\n",
       "    </tr>\n",
       "  </tbody>\n",
       "</table>\n",
       "</div>"
      ],
      "text/plain": [
       "   Webpage_id                                               text\n",
       "0       22193  b'                       Sign in              ...\n",
       "1       66880  b\"                                            ...\n",
       "2       13155  b'   Skip to Main Content                     ...\n",
       "3       10638  b'                            Skip to main con...\n",
       "4       42466  b\"       FDA Voice  FDA's official blog     Se..."
      ]
     },
     "execution_count": 5,
     "metadata": {},
     "output_type": "execute_result"
    }
   ],
   "source": [
    "test.head()"
   ]
  },
  {
   "cell_type": "code",
   "execution_count": 6,
   "id": "5a0bf844",
   "metadata": {},
   "outputs": [
    {
     "name": "stdout",
     "output_type": "stream",
     "text": [
      "Requirement already satisfied: seaborn in /usr/local/lib/python3.8/dist-packages (0.11.1)\n",
      "Requirement already satisfied: numpy>=1.15 in /usr/local/lib/python3.8/dist-packages (from seaborn) (1.19.5)\n",
      "Requirement already satisfied: matplotlib>=2.2 in /usr/local/lib/python3.8/dist-packages (from seaborn) (3.4.2)\n",
      "Requirement already satisfied: pandas>=0.23 in /usr/local/lib/python3.8/dist-packages (from seaborn) (1.3.1)\n",
      "Requirement already satisfied: scipy>=1.0 in /usr/local/lib/python3.8/dist-packages (from seaborn) (1.4.1)\n",
      "Requirement already satisfied: kiwisolver>=1.0.1 in /usr/local/lib/python3.8/dist-packages (from matplotlib>=2.2->seaborn) (1.3.1)\n",
      "Requirement already satisfied: pillow>=6.2.0 in /usr/local/lib/python3.8/dist-packages (from matplotlib>=2.2->seaborn) (8.3.1)\n",
      "Requirement already satisfied: python-dateutil>=2.7 in /usr/local/lib/python3.8/dist-packages (from matplotlib>=2.2->seaborn) (2.8.1)\n",
      "Requirement already satisfied: cycler>=0.10 in /usr/local/lib/python3.8/dist-packages (from matplotlib>=2.2->seaborn) (0.10.0)\n",
      "Requirement already satisfied: pyparsing>=2.2.1 in /usr/local/lib/python3.8/dist-packages (from matplotlib>=2.2->seaborn) (2.4.7)\n",
      "Requirement already satisfied: six in /usr/local/lib/python3.8/dist-packages (from cycler>=0.10->matplotlib>=2.2->seaborn) (1.15.0)\n",
      "Requirement already satisfied: pytz>=2017.3 in /usr/local/lib/python3.8/dist-packages (from pandas>=0.23->seaborn) (2021.1)\n",
      "\u001b[33mWARNING: Running pip as root will break packages and permissions. You should install packages reliably by using venv: https://pip.pypa.io/warnings/venv\u001b[0m\n",
      "\u001b[33mWARNING: You are using pip version 21.1.2; however, version 21.2.3 is available.\n",
      "You should consider upgrading via the '/usr/bin/python -m pip install --upgrade pip' command.\u001b[0m\n"
     ]
    }
   ],
   "source": [
    "import numpy as np\n",
    "!pip install seaborn\n",
    "import seaborn as sns\n",
    "import matplotlib.pyplot as plt\n",
    "%matplotlib inline"
   ]
  },
  {
   "cell_type": "code",
   "execution_count": 7,
   "id": "9fe085f6",
   "metadata": {},
   "outputs": [
    {
     "name": "stderr",
     "output_type": "stream",
     "text": [
      "/usr/local/lib/python3.8/dist-packages/seaborn/_decorators.py:36: FutureWarning: Pass the following variable as a keyword arg: x. From version 0.12, the only valid positional argument will be `data`, and passing other arguments without an explicit keyword will result in an error or misinterpretation.\n",
      "  warnings.warn(\n"
     ]
    },
    {
     "data": {
      "text/plain": [
       "<AxesSubplot:xlabel='Tag', ylabel='count'>"
      ]
     },
     "execution_count": 7,
     "metadata": {},
     "output_type": "execute_result"
    },
    {
     "data": {
      "image/png": "[encoded data removed]",
      "text/plain": [
       "<Figure size 720x360 with 1 Axes>"
      ]
     },
     "metadata": {
      "needs_background": "light"
     },
     "output_type": "display_data"
    }
   ],
   "source": [
    "plt.subplots(figsize=(10, 5))\n",
    "sns.countplot(train['Tag'])"
   ]
  },
  {
   "cell_type": "code",
   "execution_count": 8,
   "id": "93304666",
   "metadata": {},
   "outputs": [
    {
     "data": {
      "text/plain": [
       "Webpage_id    0\n",
       "Tag           0\n",
       "text          0\n",
       "dtype: int64"
      ]
     },
     "execution_count": 8,
     "metadata": {},
     "output_type": "execute_result"
    }
   ],
   "source": [
    "train.isnull().sum()"
   ]
  },
  {
   "cell_type": "code",
   "execution_count": 9,
   "id": "1a02455b",
   "metadata": {},
   "outputs": [],
   "source": [
    "train1= train.drop(labels='Webpage_id',axis=1)"
   ]
  },
  {
   "cell_type": "code",
   "execution_count": 10,
   "id": "0f00cb15",
   "metadata": {},
   "outputs": [],
   "source": [
    "train1.tail()\n",
    "y= train1['Tag']"
   ]
  },
  {
   "cell_type": "code",
   "execution_count": 11,
   "id": "a39d4d95",
   "metadata": {},
   "outputs": [],
   "source": [
    "label= LabelEncoder()\n",
    "y= label.fit_transform(y)"
   ]
  },
  {
   "cell_type": "code",
   "execution_count": 12,
   "id": "f3a96ceb",
   "metadata": {},
   "outputs": [
    {
     "data": {
      "text/plain": [
       "'0.24.2'"
      ]
     },
     "execution_count": 12,
     "metadata": {},
     "output_type": "execute_result"
    }
   ],
   "source": [
    "sklearn.__version__\n"
   ]
  },
  {
   "cell_type": "code",
   "execution_count": 13,
   "id": "5a2ed9ea",
   "metadata": {},
   "outputs": [],
   "source": [
    "x= train1['text']"
   ]
  },
  {
   "cell_type": "code",
   "execution_count": 14,
   "id": "1be8b4f1",
   "metadata": {},
   "outputs": [],
   "source": [
    "from sklearn.feature_extraction.text import TfidfVectorizer\n",
    "vectorizer = TfidfVectorizer()"
   ]
  },
  {
   "cell_type": "code",
   "execution_count": 15,
   "id": "9c76ff6d",
   "metadata": {},
   "outputs": [],
   "source": [
    "from sklearn.svm import LinearSVC"
   ]
  },
  {
   "cell_type": "code",
   "execution_count": 16,
   "id": "80a07b59",
   "metadata": {},
   "outputs": [
    {
     "name": "stderr",
     "output_type": "stream",
     "text": [
      "<ipython-input-16-b332eac809de>:4: SettingWithCopyWarning: \n",
      "A value is trying to be set on a copy of a slice from a DataFrame\n",
      "\n",
      "See the caveats in the documentation: https://pandas.pydata.org/pandas-docs/stable/user_guide/indexing.html#returning-a-view-versus-a-copy\n",
      "  train['text'][i]=z\n",
      "<ipython-input-16-b332eac809de>:10: SettingWithCopyWarning: \n",
      "A value is trying to be set on a copy of a slice from a DataFrame\n",
      "\n",
      "See the caveats in the documentation: https://pandas.pydata.org/pandas-docs/stable/user_guide/indexing.html#returning-a-view-versus-a-copy\n",
      "  test['text'][i]=z\n"
     ]
    },
    {
     "data": {
      "text/html": [
       "<div>\n",
       "<style scoped>\n",
       "    .dataframe tbody tr th:only-of-type {\n",
       "        vertical-align: middle;\n",
       "    }\n",
       "\n",
       "    .dataframe tbody tr th {\n",
       "        vertical-align: top;\n",
       "    }\n",
       "\n",
       "    .dataframe thead th {\n",
       "        text-align: right;\n",
       "    }\n",
       "</style>\n",
       "<table border=\"1\" class=\"dataframe\">\n",
       "  <thead>\n",
       "    <tr style=\"text-align: right;\">\n",
       "      <th></th>\n",
       "      <th>Webpage_id</th>\n",
       "      <th>text</th>\n",
       "    </tr>\n",
       "  </thead>\n",
       "  <tbody>\n",
       "    <tr>\n",
       "      <th>0</th>\n",
       "      <td>22193</td>\n",
       "      <td>'                       Sign in               ...</td>\n",
       "    </tr>\n",
       "    <tr>\n",
       "      <th>1</th>\n",
       "      <td>66880</td>\n",
       "      <td>\"                                             ...</td>\n",
       "    </tr>\n",
       "    <tr>\n",
       "      <th>2</th>\n",
       "      <td>13155</td>\n",
       "      <td>'   Skip to Main Content                      ...</td>\n",
       "    </tr>\n",
       "    <tr>\n",
       "      <th>3</th>\n",
       "      <td>10638</td>\n",
       "      <td>'                            Skip to main cont...</td>\n",
       "    </tr>\n",
       "    <tr>\n",
       "      <th>4</th>\n",
       "      <td>42466</td>\n",
       "      <td>\"       FDA Voice  FDA's official blog     Sec...</td>\n",
       "    </tr>\n",
       "  </tbody>\n",
       "</table>\n",
       "</div>"
      ],
      "text/plain": [
       "   Webpage_id                                               text\n",
       "0       22193  '                       Sign in               ...\n",
       "1       66880  \"                                             ...\n",
       "2       13155  '   Skip to Main Content                      ...\n",
       "3       10638  '                            Skip to main cont...\n",
       "4       42466  \"       FDA Voice  FDA's official blog     Sec..."
      ]
     },
     "execution_count": 16,
     "metadata": {},
     "output_type": "execute_result"
    }
   ],
   "source": [
    "train.head()\n",
    "for i in train.index:\n",
    "    z= train['text'][i][1:]\n",
    "    train['text'][i]=z\n",
    "    \n",
    "    \n",
    "\n",
    "for i in test.index:\n",
    "    z= test['text'][i][1:]\n",
    "    test['text'][i]=z\n",
    "    \n",
    "\n",
    "    \n",
    "test.head()"
   ]
  },
  {
   "cell_type": "code",
   "execution_count": 17,
   "id": "7929a727",
   "metadata": {},
   "outputs": [],
   "source": [
    "import nltk"
   ]
  },
  {
   "cell_type": "code",
   "execution_count": 18,
   "id": "6c9c0425",
   "metadata": {},
   "outputs": [
    {
     "name": "stderr",
     "output_type": "stream",
     "text": [
      "[nltk_data] Downloading package stopwords to /home/nltk_data...\n",
      "[nltk_data]   Package stopwords is already up-to-date!\n"
     ]
    },
    {
     "data": {
      "text/plain": [
       "True"
      ]
     },
     "execution_count": 18,
     "metadata": {},
     "output_type": "execute_result"
    }
   ],
   "source": [
    "nltk.download('stopwords')"
   ]
  },
  {
   "cell_type": "code",
   "execution_count": 19,
   "id": "04b791c7",
   "metadata": {},
   "outputs": [],
   "source": [
    "from nltk.corpus import stopwords\n",
    "stop=stopwords.words('english')\n",
    "train['text']=train['text'].apply(lambda x:\" \".join(word for word in x.split() if word not in (stop)))\n",
    "test['text']=test['text'].apply(lambda x:\" \".join(word for word in x.split() if word not in (stop)))"
   ]
  },
  {
   "cell_type": "code",
   "execution_count": 20,
   "id": "86756e19",
   "metadata": {},
   "outputs": [
    {
     "data": {
      "text/html": [
       "<div>\n",
       "<style scoped>\n",
       "    .dataframe tbody tr th:only-of-type {\n",
       "        vertical-align: middle;\n",
       "    }\n",
       "\n",
       "    .dataframe tbody tr th {\n",
       "        vertical-align: top;\n",
       "    }\n",
       "\n",
       "    .dataframe thead th {\n",
       "        text-align: right;\n",
       "    }\n",
       "</style>\n",
       "<table border=\"1\" class=\"dataframe\">\n",
       "  <thead>\n",
       "    <tr style=\"text-align: right;\">\n",
       "      <th></th>\n",
       "      <th>Webpage_id</th>\n",
       "      <th>Tag</th>\n",
       "      <th>text</th>\n",
       "    </tr>\n",
       "  </thead>\n",
       "  <tbody>\n",
       "    <tr>\n",
       "      <th>0</th>\n",
       "      <td>11400</td>\n",
       "      <td>news</td>\n",
       "      <td>' Questions? +1 800-883-2055 Set Up FREE Accou...</td>\n",
       "    </tr>\n",
       "    <tr>\n",
       "      <th>1</th>\n",
       "      <td>55539</td>\n",
       "      <td>others</td>\n",
       "      <td>\" Skip main navigation Skip Content Investor R...</td>\n",
       "    </tr>\n",
       "    <tr>\n",
       "      <th>2</th>\n",
       "      <td>42040</td>\n",
       "      <td>others</td>\n",
       "      <td>\" FDA Voice FDA's official blog Secondary menu...</td>\n",
       "    </tr>\n",
       "    <tr>\n",
       "      <th>3</th>\n",
       "      <td>41174</td>\n",
       "      <td>others</td>\n",
       "      <td>' WHERE THE ACTION IS HOME ABOUT ABOUT US MEET...</td>\n",
       "    </tr>\n",
       "    <tr>\n",
       "      <th>4</th>\n",
       "      <td>70573</td>\n",
       "      <td>news</td>\n",
       "      <td>\" This site requires javascript, appear enable...</td>\n",
       "    </tr>\n",
       "  </tbody>\n",
       "</table>\n",
       "</div>"
      ],
      "text/plain": [
       "   Webpage_id     Tag                                               text\n",
       "0       11400    news  ' Questions? +1 800-883-2055 Set Up FREE Accou...\n",
       "1       55539  others  \" Skip main navigation Skip Content Investor R...\n",
       "2       42040  others  \" FDA Voice FDA's official blog Secondary menu...\n",
       "3       41174  others  ' WHERE THE ACTION IS HOME ABOUT ABOUT US MEET...\n",
       "4       70573    news  \" This site requires javascript, appear enable..."
      ]
     },
     "execution_count": 20,
     "metadata": {},
     "output_type": "execute_result"
    }
   ],
   "source": [
    "train.head()"
   ]
  },
  {
   "cell_type": "code",
   "execution_count": 21,
   "id": "7ab75f4e",
   "metadata": {},
   "outputs": [],
   "source": [
    "train['text']=train['text'].str.lower()\n",
    "test['text']= test['text'].str.lower()"
   ]
  },
  {
   "cell_type": "code",
   "execution_count": 22,
   "id": "3cc7f06e",
   "metadata": {},
   "outputs": [],
   "source": [
    "import string\n",
    "exclude = set(string.punctuation)\n",
    "def rem(x):\n",
    "    try:\n",
    "        x= ''.join(ch for ch in x if ch not in exclude)\n",
    "    except:\n",
    "        pass\n",
    "    return x\n",
    "train['text']=train['text'].apply(rem)\n",
    "test['text']= test['text'].apply(rem)"
   ]
  },
  {
   "cell_type": "code",
   "execution_count": 23,
   "id": "23e3fdcc",
   "metadata": {},
   "outputs": [
    {
     "data": {
      "text/html": [
       "<div>\n",
       "<style scoped>\n",
       "    .dataframe tbody tr th:only-of-type {\n",
       "        vertical-align: middle;\n",
       "    }\n",
       "\n",
       "    .dataframe tbody tr th {\n",
       "        vertical-align: top;\n",
       "    }\n",
       "\n",
       "    .dataframe thead th {\n",
       "        text-align: right;\n",
       "    }\n",
       "</style>\n",
       "<table border=\"1\" class=\"dataframe\">\n",
       "  <thead>\n",
       "    <tr style=\"text-align: right;\">\n",
       "      <th></th>\n",
       "      <th>Webpage_id</th>\n",
       "      <th>Tag</th>\n",
       "      <th>text</th>\n",
       "    </tr>\n",
       "  </thead>\n",
       "  <tbody>\n",
       "    <tr>\n",
       "      <th>37407</th>\n",
       "      <td>10680</td>\n",
       "      <td>guidelines</td>\n",
       "      <td>skip content skip navigation login returntowo...</td>\n",
       "    </tr>\n",
       "    <tr>\n",
       "      <th>37408</th>\n",
       "      <td>33713</td>\n",
       "      <td>others</td>\n",
       "      <td>my ana staff nurses advanced practice nurses ...</td>\n",
       "    </tr>\n",
       "    <tr>\n",
       "      <th>37409</th>\n",
       "      <td>6542</td>\n",
       "      <td>publication</td>\n",
       "      <td>home submit manuscript my account advanced se...</td>\n",
       "    </tr>\n",
       "    <tr>\n",
       "      <th>37410</th>\n",
       "      <td>9655</td>\n",
       "      <td>news</td>\n",
       "      <td>skip content satprnews pr distribution menu p...</td>\n",
       "    </tr>\n",
       "    <tr>\n",
       "      <th>37411</th>\n",
       "      <td>53389</td>\n",
       "      <td>others</td>\n",
       "      <td>skip main content asm journals antimicrobial ...</td>\n",
       "    </tr>\n",
       "  </tbody>\n",
       "</table>\n",
       "</div>"
      ],
      "text/plain": [
       "       Webpage_id          Tag  \\\n",
       "37407       10680   guidelines   \n",
       "37408       33713       others   \n",
       "37409        6542  publication   \n",
       "37410        9655         news   \n",
       "37411       53389       others   \n",
       "\n",
       "                                                    text  \n",
       "37407   skip content skip navigation login returntowo...  \n",
       "37408   my ana staff nurses advanced practice nurses ...  \n",
       "37409   home submit manuscript my account advanced se...  \n",
       "37410   skip content satprnews pr distribution menu p...  \n",
       "37411   skip main content asm journals antimicrobial ...  "
      ]
     },
     "execution_count": 23,
     "metadata": {},
     "output_type": "execute_result"
    }
   ],
   "source": [
    "train.tail()"
   ]
  },
  {
   "cell_type": "code",
   "execution_count": 24,
   "id": "4535a06e",
   "metadata": {},
   "outputs": [],
   "source": [
    "x= train['text']\n"
   ]
  },
  {
   "cell_type": "code",
   "execution_count": 25,
   "id": "62195e7a",
   "metadata": {},
   "outputs": [
    {
     "name": "stderr",
     "output_type": "stream",
     "text": [
      "/usr/local/lib/python3.8/dist-packages/xgboost/sklearn.py:1146: UserWarning: The use of label encoder in XGBClassifier is deprecated and will be removed in a future release. To remove this warning, do the following: 1) Pass option use_label_encoder=False when constructing XGBClassifier object; and 2) Encode your labels (y) as integers starting with 0, i.e. 0, 1, 2, ..., [num_class - 1].\n",
      "  warnings.warn(label_encoder_deprecation_msg, UserWarning)\n"
     ]
    },
    {
     "name": "stdout",
     "output_type": "stream",
     "text": [
      "[10:58:06] WARNING: ../src/learner.cc:1095: Starting in XGBoost 1.3.0, the default evaluation metric used with the objective 'multi:softprob' was changed from 'merror' to 'mlogloss'. Explicitly set eval_metric if you'd like to restore the old behavior.\n"
     ]
    },
    {
     "data": {
      "text/plain": [
       "Pipeline(steps=[('tdif', TfidfVectorizer()),\n",
       "                ('clf',\n",
       "                 XGBClassifier(base_score=0.5, booster='gbtree',\n",
       "                               colsample_bylevel=1, colsample_bynode=1,\n",
       "                               colsample_bytree=1, gamma=0, gpu_id=-1,\n",
       "                               importance_type='gain',\n",
       "                               interaction_constraints='',\n",
       "                               learning_rate=0.300000012, max_delta_step=0,\n",
       "                               max_depth=6, min_child_weight=1, missing=nan,\n",
       "                               monotone_constraints='()', n_estimators=100,\n",
       "                               n_jobs=7, num_parallel_tree=1,\n",
       "                               objective='multi:softprob', random_state=0,\n",
       "                               reg_alpha=0, reg_lambda=1, scale_pos_weight=None,\n",
       "                               subsample=1, tree_method='exact',\n",
       "                               validate_parameters=1, verbosity=None))])"
      ]
     },
     "execution_count": 25,
     "metadata": {},
     "output_type": "execute_result"
    }
   ],
   "source": [
    "pipe= Pipeline([('tdif',vectorizer),('clf',XGBClassifier())])\n",
    "pipe.fit(x,y)"
   ]
  },
  {
   "cell_type": "code",
   "execution_count": 26,
   "id": "f4ff3833",
   "metadata": {},
   "outputs": [
    {
     "data": {
      "text/html": [
       "<div>\n",
       "<style scoped>\n",
       "    .dataframe tbody tr th:only-of-type {\n",
       "        vertical-align: middle;\n",
       "    }\n",
       "\n",
       "    .dataframe tbody tr th {\n",
       "        vertical-align: top;\n",
       "    }\n",
       "\n",
       "    .dataframe thead th {\n",
       "        text-align: right;\n",
       "    }\n",
       "</style>\n",
       "<table border=\"1\" class=\"dataframe\">\n",
       "  <thead>\n",
       "    <tr style=\"text-align: right;\">\n",
       "      <th></th>\n",
       "      <th>Webpage_id</th>\n",
       "      <th>text</th>\n",
       "    </tr>\n",
       "  </thead>\n",
       "  <tbody>\n",
       "    <tr>\n",
       "      <th>0</th>\n",
       "      <td>22193</td>\n",
       "      <td>sign home current issue past issues for autho...</td>\n",
       "    </tr>\n",
       "    <tr>\n",
       "      <th>1</th>\n",
       "      <td>66880</td>\n",
       "      <td>global selector partnering contact our compan...</td>\n",
       "    </tr>\n",
       "    <tr>\n",
       "      <th>2</th>\n",
       "      <td>13155</td>\n",
       "      <td>skip main content mobile rss feeds login emai...</td>\n",
       "    </tr>\n",
       "    <tr>\n",
       "      <th>3</th>\n",
       "      <td>10638</td>\n",
       "      <td>skip main content this service advanced javas...</td>\n",
       "    </tr>\n",
       "    <tr>\n",
       "      <th>4</th>\n",
       "      <td>42466</td>\n",
       "      <td>fda voice fdas official blog secondary menu s...</td>\n",
       "    </tr>\n",
       "    <tr>\n",
       "      <th>...</th>\n",
       "      <td>...</td>\n",
       "      <td>...</td>\n",
       "    </tr>\n",
       "    <tr>\n",
       "      <th>16030</th>\n",
       "      <td>9297</td>\n",
       "      <td>toggle navigation menu home about us journals...</td>\n",
       "    </tr>\n",
       "    <tr>\n",
       "      <th>16031</th>\n",
       "      <td>10048</td>\n",
       "      <td>freddiemaccom freddie mac home singlefamily m...</td>\n",
       "    </tr>\n",
       "    <tr>\n",
       "      <th>16032</th>\n",
       "      <td>32811</td>\n",
       "      <td>information for prospective students current ...</td>\n",
       "    </tr>\n",
       "    <tr>\n",
       "      <th>16033</th>\n",
       "      <td>40467</td>\n",
       "      <td>registered nurses association ontario lxe2x80...</td>\n",
       "    </tr>\n",
       "    <tr>\n",
       "      <th>16034</th>\n",
       "      <td>74089</td>\n",
       "      <td>services demand journal scielo analytics goog...</td>\n",
       "    </tr>\n",
       "  </tbody>\n",
       "</table>\n",
       "<p>16035 rows × 2 columns</p>\n",
       "</div>"
      ],
      "text/plain": [
       "       Webpage_id                                               text\n",
       "0           22193   sign home current issue past issues for autho...\n",
       "1           66880   global selector partnering contact our compan...\n",
       "2           13155   skip main content mobile rss feeds login emai...\n",
       "3           10638   skip main content this service advanced javas...\n",
       "4           42466   fda voice fdas official blog secondary menu s...\n",
       "...           ...                                                ...\n",
       "16030        9297   toggle navigation menu home about us journals...\n",
       "16031       10048   freddiemaccom freddie mac home singlefamily m...\n",
       "16032       32811   information for prospective students current ...\n",
       "16033       40467   registered nurses association ontario lxe2x80...\n",
       "16034       74089   services demand journal scielo analytics goog...\n",
       "\n",
       "[16035 rows x 2 columns]"
      ]
     },
     "execution_count": 26,
     "metadata": {},
     "output_type": "execute_result"
    }
   ],
   "source": [
    "test"
   ]
  },
  {
   "cell_type": "code",
   "execution_count": 37,
   "id": "51d3ce48",
   "metadata": {},
   "outputs": [],
   "source": [
    "pred= pipe.predict(test['text'])"
   ]
  },
  {
   "cell_type": "code",
   "execution_count": 38,
   "id": "0eaf5e04",
   "metadata": {},
   "outputs": [
    {
     "data": {
      "text/plain": [
       "array(['publication', 'others', 'conferences', ..., 'others', 'others',\n",
       "       'publication'], dtype=object)"
      ]
     },
     "execution_count": 38,
     "metadata": {},
     "output_type": "execute_result"
    }
   ],
   "source": [
    "pred1= label.inverse_transform(pred)\n",
    "pred1"
   ]
  },
  {
   "cell_type": "code",
   "execution_count": 41,
   "id": "8006510e",
   "metadata": {},
   "outputs": [],
   "source": [
    "output=pd.DataFrame(data={'Webpage_id':test['Webpage_id'],'Tag':pred1})"
   ]
  },
  {
   "cell_type": "code",
   "execution_count": 42,
   "id": "fd0e7e32",
   "metadata": {},
   "outputs": [],
   "source": [
    "output.to_csv('text111.csv',index=False)"
   ]
  },
  {
   "cell_type": "code",
   "execution_count": null,
   "id": "9a108fe6",
   "metadata": {},
   "outputs": [],
   "source": []
  }
 ],
 "metadata": {
  "kernelspec": {
   "display_name": "Python 3",
   "language": "python",
   "name": "python3"
  },
  "language_info": {
   "codemirror_mode": {
    "name": "ipython",
    "version": 3
   },
   "file_extension": ".py",
   "mimetype": "text/x-python",
   "name": "python",
   "nbconvert_exporter": "python",
   "pygments_lexer": "ipython3",
   "version": "3.8.5"
  }
 },
 "nbformat": 4,
 "nbformat_minor": 5
}
